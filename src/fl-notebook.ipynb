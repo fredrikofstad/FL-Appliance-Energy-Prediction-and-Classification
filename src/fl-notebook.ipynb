{
 "nbformat": 4,
 "nbformat_minor": 0,
 "metadata": {
  "colab": {
   "provenance": [],
   "authorship_tag": "ABX9TyOs4snawInR3iCfsWTCIOyG",
   "include_colab_link": true
  },
  "kernelspec": {
   "name": "python3",
   "language": "python",
   "display_name": "Python 3 (ipykernel)"
  },
  "language_info": {
   "name": "python"
  }
 },
 "cells": [
  {
   "cell_type": "markdown",
   "metadata": {
    "id": "view-in-github",
    "colab_type": "text"
   },
   "source": [
    "<a href=\"https://colab.research.google.com/github/fredrikofstad/FL-Appliance-Energy-Prediction-and-Classification/blob/master/src/fl-notebook.ipynb\" target=\"_parent\"><img src=\"https://colab.research.google.com/assets/colab-badge.svg\" alt=\"Open In Colab\"/></a>"
   ]
  },
  {
   "cell_type": "markdown",
   "source": [
    "Colab for the FL-Appliance-Energy-Prediction-and-Classification repository found here: https://github.com/fredrikofstad/FL-Appliance-Energy-Prediction-and-Classification\n",
    "\n",
    "First clone the repository and change the working directory:"
   ],
   "metadata": {
    "id": "Oq79_I_qv21W"
   }
  },
  {
   "cell_type": "code",
   "source": [
    "#!git pull"
   ],
   "metadata": {
    "id": "1Mv4Zc0q0iBs"
   },
   "execution_count": 1,
   "outputs": []
  },
  {
   "cell_type": "code",
   "execution_count": 1,
   "metadata": {
    "id": "m889G-FSv1sp",
    "outputId": "ad5dc6d8-4c0f-4f09-8c1e-2655db6645e2",
    "colab": {
     "base_uri": "https://localhost:8080/"
    }
   },
   "outputs": [
    {
     "output_type": "stream",
     "name": "stdout",
     "text": [
      "Cloning into 'FL-Appliance-Energy-Prediction-and-Classification'...\n",
      "remote: Enumerating objects: 119, done.\u001B[K\n",
      "remote: Counting objects: 100% (105/105), done.\u001B[K\n",
      "remote: Compressing objects: 100% (45/45), done.\u001B[K\n",
      "remote: Total 119 (delta 67), reused 77 (delta 56), pack-reused 14\u001B[K\n",
      "Receiving objects: 100% (119/119), 73.84 MiB | 28.03 MiB/s, done.\n",
      "Resolving deltas: 100% (67/67), done.\n"
     ]
    }
   ],
   "source": [
    "!git clone https://github.com/fredrikofstad/FL-Appliance-Energy-Prediction-and-Classification"
   ]
  },
  {
   "cell_type": "code",
   "source": [
    "%cd /content/FL-Appliance-Energy-Prediction-and-Classification"
   ],
   "metadata": {
    "id": "xMzfZaO8wCmn",
    "outputId": "26d55b99-1b6c-415e-85ba-e2bd3abc28c2",
    "colab": {
     "base_uri": "https://localhost:8080/"
    }
   },
   "execution_count": 2,
   "outputs": [
    {
     "output_type": "stream",
     "name": "stdout",
     "text": [
      "/content/FL-Appliance-Energy-Prediction-and-Classification\n"
     ]
    }
   ]
  },
  {
   "cell_type": "markdown",
   "source": [
    "Making sure gpus are connected:"
   ],
   "metadata": {
    "id": "jxXTwd080m9H"
   }
  },
  {
   "cell_type": "code",
   "source": [
    "%run src/test.py"
   ],
   "metadata": {
    "id": "6nO8bnt0y7YZ",
    "outputId": "5680274b-f073-4fb6-c60c-79aefe7f999f",
    "colab": {
     "base_uri": "https://localhost:8080/"
    }
   },
   "execution_count": 3,
   "outputs": [
    {
     "output_type": "stream",
     "name": "stdout",
     "text": [
      "Num GPUs Available:  0\n"
     ]
    }
   ]
  },
  {
   "cell_type": "markdown",
   "source": [
    "Testing:"
   ],
   "metadata": {
    "collapsed": false
   }
  },
  {
   "cell_type": "code",
   "execution_count": 17,
   "outputs": [],
   "source": [
    "import tensorflow as tf\n",
    "import tensorflow_federated as tff\n",
    "import numpy as np"
   ],
   "metadata": {
    "collapsed": false,
    "ExecuteTime": {
     "end_time": "2023-11-04T17:47:20.358010237Z",
     "start_time": "2023-11-04T17:47:20.351571548Z"
    }
   }
  },
  {
   "cell_type": "code",
   "execution_count": 9,
   "outputs": [
    {
     "name": "stdout",
     "output_type": "stream",
     "text": [
      "The tensorboard extension is already loaded. To reload it, use:\n",
      "  %reload_ext tensorboard\n"
     ]
    }
   ],
   "source": [
    "%load_ext tensorboard\n"
   ],
   "metadata": {
    "collapsed": false,
    "ExecuteTime": {
     "end_time": "2023-11-04T17:39:52.688540379Z",
     "start_time": "2023-11-04T17:39:52.681576443Z"
    }
   }
  },
  {
   "cell_type": "code",
   "execution_count": 15,
   "outputs": [],
   "source": [
    "# Clear any logs from previous runs\n",
    "!rm -rf ./logs/"
   ],
   "metadata": {
    "collapsed": false,
    "ExecuteTime": {
     "end_time": "2023-11-04T17:46:16.265807175Z",
     "start_time": "2023-11-04T17:46:15.933237678Z"
    }
   }
  },
  {
   "cell_type": "code",
   "execution_count": null,
   "outputs": [],
   "source": [
    "%tensorboard --logdir logs/fit"
   ],
   "metadata": {
    "collapsed": false
   }
  },
  {
   "cell_type": "code",
   "execution_count": 18,
   "outputs": [
    {
     "name": "stderr",
     "output_type": "stream",
     "text": [
      "2023-11-04 18:47:23.318653: I tensorflow/core/grappler/devices.cc:66] Number of eligible GPUs (core count >= 8, compute capability >= 0.0): 0\n",
      "2023-11-04 18:47:23.318789: I tensorflow/core/grappler/clusters/single_machine.cc:361] Starting new session\n"
     ]
    },
    {
     "data": {
      "text/plain": "b'Hello, World!'"
     },
     "execution_count": 18,
     "metadata": {},
     "output_type": "execute_result"
    }
   ],
   "source": [
    "import collections\n",
    "\n",
    "np.random.seed(0)\n",
    "\n",
    "tff.federated_computation(lambda: 'Hello, World!')()"
   ],
   "metadata": {
    "collapsed": false,
    "ExecuteTime": {
     "end_time": "2023-11-04T17:47:25.444993324Z",
     "start_time": "2023-11-04T17:47:23.316417466Z"
    }
   }
  },
  {
   "cell_type": "code",
   "execution_count": 19,
   "outputs": [
    {
     "name": "stderr",
     "output_type": "stream",
     "text": [
      "Downloading emnist_all.sqlite.lzma: 100%|██████████| 170507172/170507172 [00:13<00:00, 12887427.13it/s]\n"
     ]
    }
   ],
   "source": [
    "emnist_train, emnist_test = tff.simulation.datasets.emnist.load_data()\n"
   ],
   "metadata": {
    "collapsed": false,
    "ExecuteTime": {
     "end_time": "2023-11-04T17:48:42.878033582Z",
     "start_time": "2023-11-04T17:48:28.536751311Z"
    }
   }
  },
  {
   "cell_type": "code",
   "execution_count": 20,
   "outputs": [
    {
     "data": {
      "text/plain": "3383"
     },
     "execution_count": 20,
     "metadata": {},
     "output_type": "execute_result"
    }
   ],
   "source": [
    "len(emnist_train.client_ids)"
   ],
   "metadata": {
    "collapsed": false,
    "ExecuteTime": {
     "end_time": "2023-11-04T17:48:59.425733553Z",
     "start_time": "2023-11-04T17:48:59.419498538Z"
    }
   }
  },
  {
   "cell_type": "code",
   "execution_count": 21,
   "outputs": [
    {
     "data": {
      "text/plain": "OrderedDict([('label', TensorSpec(shape=(), dtype=tf.int32, name=None)),\n             ('pixels',\n              TensorSpec(shape=(28, 28), dtype=tf.float32, name=None))])"
     },
     "execution_count": 21,
     "metadata": {},
     "output_type": "execute_result"
    }
   ],
   "source": [
    "emnist_train.element_type_structure"
   ],
   "metadata": {
    "collapsed": false,
    "ExecuteTime": {
     "end_time": "2023-11-04T17:49:12.927110417Z",
     "start_time": "2023-11-04T17:49:12.884442284Z"
    }
   }
  },
  {
   "cell_type": "code",
   "execution_count": 22,
   "outputs": [
    {
     "data": {
      "text/plain": "1"
     },
     "execution_count": 22,
     "metadata": {},
     "output_type": "execute_result"
    }
   ],
   "source": [
    "example_dataset = emnist_train.create_tf_dataset_for_client(\n",
    "    emnist_train.client_ids[0])\n",
    "\n",
    "example_element = next(iter(example_dataset))\n",
    "\n",
    "example_element['label'].numpy()"
   ],
   "metadata": {
    "collapsed": false,
    "ExecuteTime": {
     "end_time": "2023-11-04T17:49:27.293350327Z",
     "start_time": "2023-11-04T17:49:27.266882746Z"
    }
   }
  },
  {
   "cell_type": "code",
   "execution_count": 23,
   "outputs": [
    {
     "data": {
      "text/plain": "<Figure size 640x480 with 1 Axes>",
      "image/png": "[encoded data removed]"
     },
     "metadata": {},
     "output_type": "display_data"
    }
   ],
   "source": [
    "from matplotlib import pyplot as plt\n",
    "plt.imshow(example_element['pixels'].numpy(), cmap='gray', aspect='equal')\n",
    "plt.grid(False)\n",
    "_ = plt.show()"
   ],
   "metadata": {
    "collapsed": false,
    "ExecuteTime": {
     "end_time": "2023-11-04T17:49:45.059456644Z",
     "start_time": "2023-11-04T17:49:43.556573901Z"
    }
   }
  }
 ]
}
