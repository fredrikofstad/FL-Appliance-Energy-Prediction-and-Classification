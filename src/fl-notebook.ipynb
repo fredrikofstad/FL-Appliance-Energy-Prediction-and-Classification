{
 "nbformat": 4,
 "nbformat_minor": 0,
 "metadata": {
  "colab": {
   "provenance": [],
   "include_colab_link": true
  },
  "kernelspec": {
   "name": "python3",
   "language": "python",
   "display_name": "Python 3 (ipykernel)"
  },
  "language_info": {
   "name": "python"
  }
 },
 "cells": [
  {
   "cell_type": "markdown",
   "metadata": {
    "id": "view-in-github",
    "colab_type": "text"
   },
   "source": [
    "<a href=\"https://colab.research.google.com/github/fredrikofstad/FL-Appliance-Energy-Prediction-and-Classification/blob/master/src/fl-notebook.ipynb\" target=\"_parent\"><img src=\"https://colab.research.google.com/assets/colab-badge.svg\" alt=\"Open In Colab\"/></a>"
   ]
  },
  {
   "cell_type": "markdown",
   "source": [
    "Colab for the FL-Appliance-Energy-Prediction-and-Classification repository found here: https://github.com/fredrikofstad/FL-Appliance-Energy-Prediction-and-Classification\n",
    "\n",
    "First clone the repository, install tensorflow-federated and change the working directory:"
   ],
   "metadata": {
    "id": "Oq79_I_qv21W"
   }
  },
  {
   "cell_type": "code",
   "source": [
    "#!git pull"
   ],
   "metadata": {
    "id": "1Mv4Zc0q0iBs"
   },
   "execution_count": null,
   "outputs": []
  },
  {
   "cell_type": "code",
   "execution_count": null,
   "metadata": {
    "id": "m889G-FSv1sp"
   },
   "outputs": [],
   "source": [
    "!git clone https://github.com/fredrikofstad/FL-Appliance-Energy-Prediction-and-Classification"
   ]
  },
  {
   "cell_type": "code",
   "execution_count": null,
   "metadata": {
    "id": "WhN4-3wmi6tf"
   },
   "outputs": [],
   "source": [
    "!pip install --upgrade tensorflow-federated"
   ]
  },
  {
   "cell_type": "markdown",
   "source": [
    "Make sure the runtime is restarted before continuing. (Ctrl + M)"
   ],
   "metadata": {
    "id": "CIWzxErjgl2u"
   }
  },
  {
   "cell_type": "code",
   "execution_count": null,
   "outputs": [],
   "source": [
    "!pip install tikzplotlib"
   ],
   "metadata": {
    "collapsed": false
   }
  },
  {
   "cell_type": "code",
   "source": [
    "%cd /content/FL-Appliance-Energy-Prediction-and-Classification/src"
   ],
   "metadata": {
    "id": "xMzfZaO8wCmn"
   },
   "execution_count": null,
   "outputs": []
  },
  {
   "cell_type": "markdown",
   "source": [
    "Making sure gpus are connected:"
   ],
   "metadata": {
    "id": "jxXTwd080m9H"
   }
  },
  {
   "cell_type": "code",
   "source": [
    "%run test.py"
   ],
   "metadata": {
    "id": "6nO8bnt0y7YZ"
   },
   "execution_count": null,
   "outputs": []
  },
  {
   "cell_type": "code",
   "execution_count": null,
   "outputs": [],
   "source": [
    "%load_ext tensorboard\n"
   ],
   "metadata": {
    "ExecuteTime": {
     "end_time": "2023-11-04T17:39:52.688540379Z",
     "start_time": "2023-11-04T17:39:52.681576443Z"
    },
    "id": "SByBTYA6f6KB"
   }
  },
  {
   "cell_type": "code",
   "execution_count": null,
   "outputs": [],
   "source": [
    "# Clear any logs from previous runs\n",
    "!rm -rf ./logs/"
   ],
   "metadata": {
    "ExecuteTime": {
     "end_time": "2023-11-04T17:46:16.265807175Z",
     "start_time": "2023-11-04T17:46:15.933237678Z"
    },
    "id": "pr4iR31Af6KC"
   }
  },
  {
   "cell_type": "code",
   "execution_count": null,
   "outputs": [],
   "source": [
    "%tensorboard --logdir logs/fit"
   ],
   "metadata": {
    "id": "2VBRlP9Lf6KD"
   }
  },
  {
   "cell_type": "code",
   "source": [
    "%%writefile config.py\n",
    "# Hyperparametrs\n",
    "NUM_EPOCHS = 2\n",
    "BATCH_SIZE = 96\n",
    "SHUFFLE_BUFFER = 1\n",
    "PREFETCH_BUFFER = 1\n",
    "SEQ_LENGTH = 96\n",
    "INPUT_SIZE = 7\n",
    "OUTPUT_SIZE = 1  # Binary classification output\n",
    "CLIENT_LEARNING_RATE = 0.02\n",
    "SERVER_LEARNING_RATE = 1.0\n"
   ],
   "metadata": {
    "id": "w7u7in8-h5bT"
   },
   "execution_count": 9,
   "outputs": []
  },
  {
   "cell_type": "markdown",
   "source": [
    "Take the hyperparemeters and initiate training"
   ],
   "metadata": {
    "id": "xXBE1cbCjXZz"
   }
  },
  {
   "cell_type": "code",
   "source": [
    "import importlib\n",
    "import fl_prediction as model\n",
    "import plotting as plot\n",
    "\n",
    "importlib.reload(model)\n",
    "loss_values, pred, target = model.train(\"RNN\")\n",
    "\n",
    "plot.make_plot(\"RNN-Loss\", loss_values)\n",
    "\n",
    "plot.make_comparison_plot(\"RNN-Comparison\", pred, target)"
   ],
   "metadata": {
    "id": "5Vb7sC2XiCJl"
   },
   "execution_count": null,
   "outputs": []
  }
 ]
}
