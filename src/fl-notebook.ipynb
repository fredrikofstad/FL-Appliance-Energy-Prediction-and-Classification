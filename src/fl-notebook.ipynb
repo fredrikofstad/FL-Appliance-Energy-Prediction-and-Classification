{
 "nbformat": 4,
 "nbformat_minor": 0,
 "metadata": {
  "colab": {
   "provenance": [],
   "include_colab_link": true
  },
  "kernelspec": {
   "name": "python3",
   "language": "python",
   "display_name": "Python 3 (ipykernel)"
  },
  "language_info": {
   "name": "python"
  }
 },
 "cells": [
  {
   "cell_type": "markdown",
   "metadata": {
    "id": "view-in-github",
    "colab_type": "text"
   },
   "source": [
    "<a href=\"https://colab.research.google.com/github/fredrikofstad/FL-Appliance-Energy-Prediction-and-Classification/blob/master/src/fl-notebook.ipynb\" target=\"_parent\"><img src=\"https://colab.research.google.com/assets/colab-badge.svg\" alt=\"Open In Colab\"/></a>"
   ]
  },
  {
   "cell_type": "markdown",
   "source": [
    "Colab for the FL-Appliance-Energy-Prediction-and-Classification repository found here: https://github.com/fredrikofstad/FL-Appliance-Energy-Prediction-and-Classification\n",
    "\n",
    "First clone the repository, install tensorflow-federated and change the working directory:"
   ],
   "metadata": {
    "id": "Oq79_I_qv21W"
   }
  },
  {
   "cell_type": "code",
   "source": [
    "#!git pull"
   ],
   "metadata": {
    "id": "1Mv4Zc0q0iBs"
   },
   "execution_count": null,
   "outputs": []
  },
  {
   "cell_type": "code",
   "execution_count": null,
   "metadata": {
    "id": "m889G-FSv1sp"
   },
   "outputs": [],
   "source": [
    "!git clone https://github.com/fredrikofstad/FL-Appliance-Energy-Prediction-and-Classification"
   ]
  },
  {
   "cell_type": "code",
   "execution_count": null,
   "metadata": {
    "id": "WhN4-3wmi6tf"
   },
   "outputs": [],
   "source": [
    "!pip install --upgrade tensorflow-federated"
   ]
  },
  {
   "cell_type": "markdown",
   "source": [
    "Make sure the runtime is restarted before continuing. (Ctrl + M)"
   ],
   "metadata": {
    "id": "CIWzxErjgl2u"
   }
  },
  {
   "cell_type": "code",
   "execution_count": null,
   "outputs": [],
   "source": [
    "# For exporting plots to tex format\n",
    "!pip install tikzplotlib"
   ],
   "metadata": {
    "collapsed": false
   }
  },
  {
   "cell_type": "code",
   "source": [
    "%cd /content/FL-Appliance-Energy-Prediction-and-Classification/src"
   ],
   "metadata": {
    "id": "xMzfZaO8wCmn"
   },
   "execution_count": null,
   "outputs": []
  },
  {
   "cell_type": "markdown",
   "source": [
    "Making sure tf works and that gpus are connected:"
   ],
   "metadata": {
    "id": "jxXTwd080m9H"
   }
  },
  {
   "cell_type": "code",
   "source": [
    "%run test.py"
   ],
   "metadata": {
    "id": "6nO8bnt0y7YZ"
   },
   "execution_count": null,
   "outputs": []
  },
  {
   "cell_type": "code",
   "source": [
    "%%writefile config.py\n",
    "# Hyperparametrs\n",
    "NUM_EPOCHS = 10\n",
    "BATCH_SIZE = 64\n",
    "SHUFFLE_BUFFER = 1\n",
    "PREFETCH_BUFFER = 1\n",
    "SEQ_LENGTH = 96\n",
    "INPUT_SIZE = 7\n",
    "OUTPUT_SIZE = 96\n",
    "CLIENT_LEARNING_RATE = 0.02\n",
    "SERVER_LEARNING_RATE = 1.0\n"
   ],
   "metadata": {
    "id": "w7u7in8-h5bT"
   },
   "execution_count": 9,
   "outputs": []
  },
  {
   "cell_type": "markdown",
   "source": [
    "Take the hyperparemeters and initiate training"
   ],
   "metadata": {
    "id": "xXBE1cbCjXZz"
   }
  },
  {
   "cell_type": "code",
   "source": [
    "import importlib\n",
    "import prediction as pred\n",
    "import plotting as plot\n",
    "\n",
    "importlib.reload(pred)\n",
    "loss_values, train, test = pred.train(\"RNN\")\n"
   ],
   "metadata": {
    "id": "5Vb7sC2XiCJl"
   },
   "execution_count": null,
   "outputs": []
  },
  {
   "cell_type": "code",
   "execution_count": null,
   "outputs": [],
   "source": [
    "plot.make_loss_plot(\"RNN-Loss\", loss_values)\n",
    "plot.plot_pred_true(\"RNN-pred-train\", train)\n",
    "plot.plot_pred_true(\"RNN-pred-test\", test)"
   ],
   "metadata": {
    "collapsed": false
   }
  },
  {
   "cell_type": "code",
   "execution_count": null,
   "outputs": [],
   "source": [
    "import importlib\n",
    "import prediction as pred\n",
    "import plotting as plot\n",
    "\n",
    "importlib.reload(pred)\n",
    "loss_values, train, test = pred.train(\"LSTM\")"
   ],
   "metadata": {
    "collapsed": false
   }
  },
  {
   "cell_type": "code",
   "execution_count": null,
   "outputs": [],
   "source": [
    "plot.make_loss_plot(\"pred-LSTM-Loss\", loss_values)\n",
    "plot.plot_pred_true(\"pred-LSTM-pred-train\", train)\n",
    "plot.plot_pred_true(\"pred-LSTM-pred-test\", test)"
   ],
   "metadata": {
    "collapsed": false
   }
  },
  {
   "cell_type": "code",
   "execution_count": null,
   "outputs": [],
   "source": [
    "%%writefile config.py\n",
    "# Hyperparametrs\n",
    "NUM_EPOCHS = 100\n",
    "BATCH_SIZE = 64\n",
    "SHUFFLE_BUFFER = 1\n",
    "PREFETCH_BUFFER = 1\n",
    "SEQ_LENGTH = 96\n",
    "INPUT_SIZE = 7\n",
    "OUTPUT_SIZE = 10\n",
    "CLIENT_LEARNING_RATE = 0.02\n",
    "SERVER_LEARNING_RATE = 1.0"
   ],
   "metadata": {
    "collapsed": false
   }
  },
  {
   "cell_type": "code",
   "execution_count": null,
   "outputs": [],
   "source": [
    "import importlib\n",
    "import classification as classifier\n",
    "import plotting as plot\n",
    "\n",
    "importlib.reload(pred)\n",
    "loss, confusion, accuracy, multiclass_true_positives = classifier.train(\"RNN\")"
   ],
   "metadata": {
    "collapsed": false
   }
  },
  {
   "cell_type": "code",
   "execution_count": null,
   "outputs": [],
   "source": [
    "plot.make_loss_plot(\"class-RNN-Loss\", loss)\n",
    "plot.make_accuracy_plot(\"class-RNN-accuracy\", accuracy)\n",
    "plot.make_confusion_plot(\"class-RNN-confusion-train\", confusion)\n",
    "plot.make_confusion_plot(\"class-RNN-confusion-test\", multiclass_true_positives)"
   ],
   "metadata": {
    "collapsed": false
   }
  },
  {
   "cell_type": "code",
   "execution_count": null,
   "outputs": [],
   "source": [
    "import importlib\n",
    "import classification as classifier\n",
    "import plotting as plot\n",
    "\n",
    "importlib.reload(pred)\n",
    "loss, confusion, accuracy, multiclass_true_positives = classifier.train(\"LSTM\")"
   ],
   "metadata": {
    "collapsed": false
   }
  },
  {
   "cell_type": "code",
   "execution_count": null,
   "outputs": [],
   "source": [
    "plot.make_loss_plot(\"class-LSTM-Loss\", loss)\n",
    "plot.make_accuracy_plot(\"class-LSTM-accuracy\", accuracy)\n",
    "plot.make_confusion_plot(\"class-LSTM-confusion-train\", confusion)\n",
    "plot.make_confusion_plot(\"class-LSTM-confusion-test\", multiclass_true_positives)"
   ],
   "metadata": {
    "collapsed": false
   }
  }
 ]
}
