{
  "nbformat": 4,
  "nbformat_minor": 0,
  "metadata": {
    "colab": {
      "provenance": [],
      "authorship_tag": "ABX9TyOs4snawInR3iCfsWTCIOyG",
      "include_colab_link": true
    },
    "kernelspec": {
      "name": "python3",
      "display_name": "Python 3"
    },
    "language_info": {
      "name": "python"
    }
  },
  "cells": [
    {
      "cell_type": "markdown",
      "metadata": {
        "id": "view-in-github",
        "colab_type": "text"
      },
      "source": [
        "<a href=\"https://colab.research.google.com/github/fredrikofstad/FL-Appliance-Energy-Prediction-and-Classification/blob/master/src/fl-notebook.ipynb\" target=\"_parent\"><img src=\"https://colab.research.google.com/assets/colab-badge.svg\" alt=\"Open In Colab\"/></a>"
      ]
    },
    {
      "cell_type": "markdown",
      "source": [
        "Colab for the FL-Appliance-Energy-Prediction-and-Classification repository found here: https://github.com/fredrikofstad/FL-Appliance-Energy-Prediction-and-Classification\n",
        "\n",
        "First clone the repository and change the working directory:"
      ],
      "metadata": {
        "id": "Oq79_I_qv21W"
      }
    },
    {
      "cell_type": "code",
      "source": [
        "#!git pull"
      ],
      "metadata": {
        "id": "1Mv4Zc0q0iBs"
      },
      "execution_count": 1,
      "outputs": []
    },
    {
      "cell_type": "code",
      "execution_count": 1,
      "metadata": {
        "id": "m889G-FSv1sp",
        "outputId": "ad5dc6d8-4c0f-4f09-8c1e-2655db6645e2",
        "colab": {
          "base_uri": "https://localhost:8080/"
        }
      },
      "outputs": [
        {
          "output_type": "stream",
          "name": "stdout",
          "text": [
            "Cloning into 'FL-Appliance-Energy-Prediction-and-Classification'...\n",
            "remote: Enumerating objects: 119, done.\u001b[K\n",
            "remote: Counting objects: 100% (105/105), done.\u001b[K\n",
            "remote: Compressing objects: 100% (45/45), done.\u001b[K\n",
            "remote: Total 119 (delta 67), reused 77 (delta 56), pack-reused 14\u001b[K\n",
            "Receiving objects: 100% (119/119), 73.84 MiB | 28.03 MiB/s, done.\n",
            "Resolving deltas: 100% (67/67), done.\n"
          ]
        }
      ],
      "source": [
        "!git clone https://github.com/fredrikofstad/FL-Appliance-Energy-Prediction-and-Classification"
      ]
    },
    {
      "cell_type": "code",
      "source": [
        "%cd /content/FL-Appliance-Energy-Prediction-and-Classification"
      ],
      "metadata": {
        "id": "xMzfZaO8wCmn",
        "outputId": "26d55b99-1b6c-415e-85ba-e2bd3abc28c2",
        "colab": {
          "base_uri": "https://localhost:8080/"
        }
      },
      "execution_count": 2,
      "outputs": [
        {
          "output_type": "stream",
          "name": "stdout",
          "text": [
            "/content/FL-Appliance-Energy-Prediction-and-Classification\n"
          ]
        }
      ]
    },
    {
      "cell_type": "markdown",
      "source": [
        "Making sure gpus are connected:"
      ],
      "metadata": {
        "id": "jxXTwd080m9H"
      }
    },
    {
      "cell_type": "code",
      "source": [
        "%run src/test.py"
      ],
      "metadata": {
        "id": "6nO8bnt0y7YZ",
        "outputId": "5680274b-f073-4fb6-c60c-79aefe7f999f",
        "colab": {
          "base_uri": "https://localhost:8080/"
        }
      },
      "execution_count": 3,
      "outputs": [
        {
          "output_type": "stream",
          "name": "stdout",
          "text": [
            "Num GPUs Available:  0\n"
          ]
        }
      ]
    }
  ]
}