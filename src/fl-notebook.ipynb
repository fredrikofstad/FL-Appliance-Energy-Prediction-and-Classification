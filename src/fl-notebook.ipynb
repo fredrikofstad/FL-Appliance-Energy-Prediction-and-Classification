{
  "nbformat": 4,
  "nbformat_minor": 0,
  "metadata": {
    "colab": {
      "provenance": [],
      "authorship_tag": "ABX9TyO+l+vAO323T/ulrCysYYic",
      "include_colab_link": true
    },
    "kernelspec": {
      "name": "python3",
      "display_name": "Python 3"
    },
    "language_info": {
      "name": "python"
    }
  },
  "cells": [
    {
      "cell_type": "markdown",
      "metadata": {
        "id": "view-in-github",
        "colab_type": "text"
      },
      "source": [
        "<a href=\"https://colab.research.google.com/github/fredrikofstad/FL-Appliance-Energy-Prediction-and-Classification/blob/master/src/fl-notebook.ipynb\" target=\"_parent\"><img src=\"https://colab.research.google.com/assets/colab-badge.svg\" alt=\"Open In Colab\"/></a>"
      ]
    },
    {
      "cell_type": "code",
      "execution_count": null,
      "metadata": {
        "id": "m889G-FSv1sp"
      },
      "outputs": [],
      "source": []
    },
    {
      "cell_type": "markdown",
      "source": [
        "Colab for the FL-Appliance-Energy-Prediction-and-Classification repository found here: https://github.com/fredrikofstad/FL-Appliance-Energy-Prediction-and-Classification"
      ],
      "metadata": {
        "id": "Oq79_I_qv21W"
      }
    },
    {
      "cell_type": "code",
      "source": [],
      "metadata": {
        "id": "xMzfZaO8wCmn"
      },
      "execution_count": null,
      "outputs": []
    }
  ]
}