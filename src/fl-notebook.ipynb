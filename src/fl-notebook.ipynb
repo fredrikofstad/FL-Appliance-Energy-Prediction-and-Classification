{
  "nbformat": 4,
  "nbformat_minor": 0,
  "metadata": {
    "colab": {
      "provenance": [],
      "gpuType": "T4",
      "include_colab_link": true
    },
    "kernelspec": {
      "name": "python3",
      "display_name": "Python 3"
    },
    "language_info": {
      "name": "python"
    },
    "accelerator": "GPU"
  },
  "cells": [
    {
      "cell_type": "markdown",
      "metadata": {
        "id": "view-in-github",
        "colab_type": "text"
      },
      "source": [
        "<a href=\"https://colab.research.google.com/github/fredrikofstad/FL-Appliance-Energy-Prediction-and-Classification/blob/master/src/fl-notebook.ipynb\" target=\"_parent\"><img src=\"https://colab.research.google.com/assets/colab-badge.svg\" alt=\"Open In Colab\"/></a>"
      ]
    },
    {
      "cell_type": "markdown",
      "source": [
        "Colab for the FL-Appliance-Energy-Prediction-and-Classification repository found here: https://github.com/fredrikofstad/FL-Appliance-Energy-Prediction-and-Classification\n",
        "\n",
        "First clone the repository and change the working directory:"
      ],
      "metadata": {
        "id": "Oq79_I_qv21W"
      }
    },
    {
      "cell_type": "code",
      "execution_count": null,
      "metadata": {
        "id": "m889G-FSv1sp"
      },
      "outputs": [],
      "source": [
        "!git clone https://github.com/fredrikofstad/FL-Appliance-Energy-Prediction-and-Classification"
      ]
    },
    {
      "cell_type": "code",
      "source": [
        "!git pull"
      ],
      "metadata": {
        "id": "1Mv4Zc0q0iBs"
      },
      "execution_count": null,
      "outputs": []
    },
    {
      "cell_type": "code",
      "source": [
        "!pip install --upgrade tensorflow-federated"
      ],
      "metadata": {
        "id": "0ewUfFcD-_LZ"
      },
      "execution_count": null,
      "outputs": []
    },
    {
      "cell_type": "markdown",
      "source": [
        "Restart the runtime before continuing"
      ],
      "metadata": {
        "id": "YOtO6ueE_x0G"
      }
    },
    {
      "cell_type": "markdown",
      "source": [
        "Change the working directory:"
      ],
      "metadata": {
        "id": "hMuvsIuQ_8jE"
      }
    },
    {
      "cell_type": "code",
      "source": [
        "%cd /content/FL-Appliance-Energy-Prediction-and-Classification"
      ],
      "metadata": {
        "id": "xMzfZaO8wCmn",
        "outputId": "88e381a1-431e-4b72-d949-594735d3c333",
        "colab": {
          "base_uri": "https://localhost:8080/"
        }
      },
      "execution_count": null,
      "outputs": [
        {
          "output_type": "stream",
          "name": "stdout",
          "text": [
            "/content/FL-Appliance-Energy-Prediction-and-Classification\n"
          ]
        }
      ]
    },
    {
      "cell_type": "markdown",
      "source": [
        "Making sure gpus are connected:"
      ],
      "metadata": {
        "id": "jxXTwd080m9H"
      }
    },
    {
      "cell_type": "code",
      "source": [
        "%run src/test.py"
      ],
      "metadata": {
        "id": "6nO8bnt0y7YZ",
        "outputId": "ae92fdf6-b760-470c-fc48-bb8be3d084a1",
        "colab": {
          "base_uri": "https://localhost:8080/"
        }
      },
      "execution_count": null,
      "outputs": [
        {
          "output_type": "stream",
          "name": "stdout",
          "text": [
            "Num GPUs Available:  1\n",
            "0.64.0\n",
            "2.14.0\n"
          ]
        }
      ]
    },
    {
      "cell_type": "markdown",
      "source": [
        "Testing:"
      ],
      "metadata": {
        "collapsed": false,
        "id": "v_IMnoZm-vIH"
      }
    },
    {
      "cell_type": "code",
      "execution_count": null,
      "outputs": [],
      "source": [
        "%load_ext tensorboard\n"
      ],
      "metadata": {
        "ExecuteTime": {
          "end_time": "2023-11-04T17:39:52.688540379Z",
          "start_time": "2023-11-04T17:39:52.681576443Z"
        },
        "id": "dSMD3I1f-vII"
      }
    },
    {
      "cell_type": "code",
      "execution_count": null,
      "outputs": [],
      "source": [
        "# Clear any logs from previous runs\n",
        "!rm -rf ./logs/"
      ],
      "metadata": {
        "ExecuteTime": {
          "end_time": "2023-11-04T17:46:16.265807175Z",
          "start_time": "2023-11-04T17:46:15.933237678Z"
        },
        "id": "jw5w8ywh-vIJ"
      }
    },
    {
      "cell_type": "code",
      "execution_count": null,
      "outputs": [],
      "source": [
        "%tensorboard --logdir logs/fit"
      ],
      "metadata": {
        "id": "cdYteT0e-vIJ"
      }
    },
    {
      "cell_type": "markdown",
      "source": [
        "Entry point to the  main program"
      ],
      "metadata": {
        "id": "ou87ObdY_dB4"
      }
    },
    {
      "cell_type": "code",
      "source": [
        "%run src/main.py"
      ],
      "metadata": {
        "id": "RZ2ctYNh_cqB"
      },
      "execution_count": null,
      "outputs": []
    }
  ]
}